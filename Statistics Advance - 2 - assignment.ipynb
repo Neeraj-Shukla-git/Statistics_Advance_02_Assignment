{
  "nbformat": 4,
  "nbformat_minor": 0,
  "metadata": {
    "colab": {
      "provenance": []
    },
    "kernelspec": {
      "name": "python3",
      "display_name": "Python 3"
    },
    "language_info": {
      "name": "python"
    }
  },
  "cells": [
    {
      "cell_type": "markdown",
      "source": [
        "Q1. What is hypothesis testing in statistics?\n",
        "\n",
        "A1.\n",
        "Hypothesis testing is a statistical method used to decide whether there is enough evidence in a sample to infer that a certain condition holds for the entire population.\n",
        "It involves making an assumption (hypothesis), testing it with data, and deciding to accept or reject it.\n",
        "\n",
        "Q2. What is the null hypothesis, and how does it differ from the alternative hypothesis?\n",
        "\n",
        "A2.\n",
        "\n",
        "Null hypothesis (H₀): Assumes there is no effect or difference.\n",
        "\n",
        "Alternative hypothesis (H₁ or Ha): Assumes there is an effect or difference.\n",
        "We test the data to see if we have enough evidence to reject H₀ in favor of H₁.\n",
        "\n",
        "Q3. What is the significance level in hypothesis testing, and why is it important?\n",
        "\n",
        "A3.\n",
        "The significance level (α) is the probability of rejecting the null hypothesis when it is actually true (Type 1 error).\n",
        "Common values: 0.05, 0.01\n",
        "It sets the threshold for deciding whether a result is statistically significant.\n",
        "\n",
        "Q4. What does a P-value represent in hypothesis testing?\n",
        "\n",
        "A4.\n",
        "A P-value is the probability of getting the observed results (or more extreme) assuming the null hypothesis is true.\n",
        "It measures how compatible your data is with H₀.\n",
        "\n",
        "Q5. How do you interpret the P-value in hypothesis testing?\n",
        "\n",
        "A5.\n",
        "\n",
        "If P-value ≤ α: Reject the null hypothesis (results are significant).\n",
        "\n",
        "If P-value > α: Fail to reject the null (not enough evidence).\n",
        "Smaller P-values mean stronger evidence against H₀.\n",
        "\n",
        "Q6. What are Type 1 and Type 2 errors in hypothesis testing?\n",
        "\n",
        "A6.\n",
        "\n",
        "Type 1 error (α): Rejecting H₀ when it is true.\n",
        "\n",
        "Type 2 error (β): Failing to reject H₀ when it is false.\n",
        "Balancing both errors is important for good decision-making.\n",
        "\n",
        "Q7. What is the difference between a one-tailed and a two-tailed test in hypothesis testing?\n",
        "\n",
        "A7.\n",
        "\n",
        "One-tailed test: Tests for effect in one direction only (e.g., mean > 50).\n",
        "\n",
        "Two-tailed test: Tests for effect in both directions (e.g., mean ≠ 50).\n",
        "Use one-tailed when the hypothesis is directional.\n",
        "\n",
        "Q8. What is the Z-test, and when is it used in hypothesis testing?\n",
        "\n",
        "A8.\n",
        "A Z-test is used when:\n",
        "\n",
        "The population standard deviation is known\n",
        "\n",
        "Sample size is large (n ≥ 30)\n",
        "It compares the sample mean to the population mean using Z-scores.\n",
        "\n",
        "Q9. How do you calculate the Z-score, and what does it represent in hypothesis testing?\n",
        "\n",
        "A9.\n",
        "\n",
        "𝑍\n",
        "=\n",
        "𝑥\n",
        "ˉ\n",
        "−\n",
        "𝜇\n",
        "𝜎\n",
        "/\n",
        "𝑛\n",
        "Z=\n",
        "σ/\n",
        "n\n",
        "​\n",
        "\n",
        "x\n",
        "ˉ\n",
        " −μ\n",
        "​\n",
        "\n",
        "It represents how many standard errors the sample mean is away from the population mean.\n",
        "Used to determine how extreme the result is.\n",
        "\n",
        "Q10. What is the T-distribution, and when should it be used instead of the normal distribution?\n",
        "\n",
        "A10.\n",
        "The T-distribution is similar to the normal distribution but has heavier tails.\n",
        "Use it when:\n",
        "\n",
        "Sample size is small (n < 30)\n",
        "\n",
        "Population standard deviation is unknown\n",
        "\n",
        "Q11. What is the difference between a Z-test and a T-test?\n",
        "\n",
        "A11.\n",
        "\n",
        "Z-test: Population standard deviation known, large sample\n",
        "\n",
        "T-test: Population standard deviation unknown, small sample\n",
        "T-test is more flexible when data is limited.\n",
        "\n",
        "Q12. What is the T-test, and how is it used in hypothesis testing?\n",
        "\n",
        "A12.\n",
        "A T-test checks if there's a significant difference between:\n",
        "\n",
        "A sample mean and a population mean (one-sample)\n",
        "\n",
        "Two sample means (independent or paired)\n",
        "Used when σ is unknown and sample size is small.\n",
        "\n",
        "Q13. What is the relationship between Z-test and T-test in hypothesis testing?\n",
        "\n",
        "A13.\n",
        "Both tests serve the same purpose—comparing means.\n",
        "\n",
        "Use Z-test when σ is known or n is large\n",
        "\n",
        "Use T-test when σ is unknown and n is small\n",
        "As sample size increases, T-distribution approaches Z-distribution.\n",
        "\n",
        "Q14. What is a confidence interval, and how is it used to interpret statistical results?\n",
        "\n",
        "A14.\n",
        "A confidence interval gives a range of values likely to contain the true parameter.\n",
        "For example, a 95% CI means you're 95% confident the true mean lies within that range.\n",
        "It helps interpret results with more context than just a single value.\n",
        "\n",
        "Q15. What is the margin of error, and how does it affect the confidence interval?\n",
        "\n",
        "A15.\n",
        "The margin of error is the range added and subtracted from the estimate to create a confidence interval.\n",
        "Larger margin = wider interval = less precision\n",
        "It depends on sample size, variability, and confidence level.\n",
        "\n",
        "Q16. How is Bayes' Theorem used in statistics, and what is its significance?\n",
        "\n",
        "A16.\n",
        "Bayes’ Theorem calculates the probability of an event based on prior knowledge and new evidence.\n",
        "Formula:\n",
        "\n",
        "𝑃\n",
        "(\n",
        "𝐴\n",
        "∣\n",
        "𝐵\n",
        ")\n",
        "=\n",
        "𝑃\n",
        "(\n",
        "𝐵\n",
        "∣\n",
        "𝐴\n",
        ")\n",
        "⋅\n",
        "𝑃\n",
        "(\n",
        "𝐴\n",
        ")\n",
        "𝑃\n",
        "(\n",
        "𝐵\n",
        ")\n",
        "P(A∣B)=\n",
        "P(B)\n",
        "P(B∣A)⋅P(A)\n",
        "​\n",
        "\n",
        "Used in: spam detection, medical testing, AI, etc.\n",
        "It allows updating probabilities as new data becomes available.\n",
        "\n",
        "Q17. What is the Chi-square distribution, and when is it used?\n",
        "\n",
        "A17.\n",
        "The Chi-square (χ²) distribution is used for categorical data and measures how expected values differ from observed.\n",
        "It’s used in:\n",
        "\n",
        "Goodness-of-fit tests\n",
        "\n",
        "Tests of independence in contingency tables\n",
        "\n",
        "Q18. What is the Chi-square goodness of fit test, and how is it applied?\n",
        "\n",
        "A18.\n",
        "The goodness-of-fit test checks whether an observed frequency distribution matches an expected distribution.\n",
        "Formula:\n",
        "\n",
        "𝜒\n",
        "2\n",
        "=\n",
        "∑\n",
        "(\n",
        "𝑂\n",
        "−\n",
        "𝐸\n",
        ")\n",
        "2\n",
        "𝐸\n",
        "χ\n",
        "2\n",
        " =∑\n",
        "E\n",
        "(O−E)\n",
        "2\n",
        "\n",
        "​\n",
        "\n",
        "Where O = observed, E = expected.\n",
        "If χ² is large, the model doesn’t fit well.\n",
        "\n",
        "Q19. What is the F-distribution, and when is it used in hypothesis testing?\n",
        "\n",
        "A19.\n",
        "The F-distribution is used to compare two variances.\n",
        "It appears in ANOVA and F-tests.\n",
        "It’s asymmetric and used when testing spread or variability between groups.\n",
        "\n",
        "Q20. What is an ANOVA test, and what are its assumptions?\n",
        "\n",
        "A20.\n",
        "ANOVA (Analysis of Variance) tests whether there are significant differences among three or more group means.\n",
        "Assumptions:\n",
        "\n",
        "Independent samples\n",
        "\n",
        "Normal distribution\n",
        "\n",
        "Equal variances across groups\n",
        "\n",
        "Q21. What are the different types of ANOVA tests?\n",
        "\n",
        "A21.\n",
        "\n",
        "One-way ANOVA: One independent variable (factor)\n",
        "\n",
        "Two-way ANOVA: Two factors and their interaction\n",
        "\n",
        "Repeated Measures ANOVA: Same subjects tested across conditions\n",
        "\n",
        "Q22. What is the F-test, and how does it relate to hypothesis testing?\n",
        "\n",
        "A22.\n",
        "An F-test compares two variances to see if they’re significantly different.\n",
        "It’s used in:\n",
        "\n",
        "Testing assumptions before T-tests\n",
        "\n",
        "ANOVA\n",
        "A high F-value suggests significant variance differences."
      ],
      "metadata": {
        "id": "OGhuzllRvxBp"
      }
    },
    {
      "cell_type": "markdown",
      "source": [
        "#Practical Questions"
      ],
      "metadata": {
        "id": "tPRDUk3WzNGJ"
      }
    },
    {
      "cell_type": "markdown",
      "source": [
        "Q1. Write a Python program to perform a Z-test for comparing a sample mean to a known population mean and interpret the results?\n",
        "\n",
        "A1."
      ],
      "metadata": {
        "id": "pRgHrv6bv6tF"
      }
    },
    {
      "cell_type": "code",
      "source": [
        "from scipy import stats\n",
        "\n",
        "sample = [102, 98, 100, 105, 97, 101, 99]\n",
        "pop_mean = 100\n",
        "sample_mean = sum(sample) / len(sample)\n",
        "std_dev = 3  # known population standard deviation\n",
        "n = len(sample)\n",
        "\n",
        "z_score = (sample_mean - pop_mean) / (std_dev / (n ** 0.5))\n",
        "p_value = 2 * (1 - stats.norm.cdf(abs(z_score)))\n",
        "\n",
        "print(f\"Z-score: {z_score:.2f}\")\n",
        "print(f\"P-value: {p_value:.4f}\")\n",
        "\n",
        "if p_value < 0.05:\n",
        "    print(\"Reject the null hypothesis.\")\n",
        "else:\n",
        "    print(\"Fail to reject the null hypothesis.\")\n"
      ],
      "metadata": {
        "id": "iSHhI-LBwAY_"
      },
      "execution_count": null,
      "outputs": []
    },
    {
      "cell_type": "markdown",
      "source": [
        "Q2. Simulate random data to perform hypothesis testing and calculate the corresponding P-value using Python?\n",
        "\n",
        "A2."
      ],
      "metadata": {
        "id": "tn0q-EYBwIIB"
      }
    },
    {
      "cell_type": "code",
      "source": [
        "import numpy as np\n",
        "from scipy.stats import ttest_1samp\n",
        "\n",
        "np.random.seed(1)\n",
        "data = np.random.normal(loc=52, scale=5, size=30)\n",
        "\n",
        "t_stat, p_val = ttest_1samp(data, popmean=50)\n",
        "\n",
        "print(f\"T-statistic: {t_stat:.2f}\")\n",
        "print(f\"P-value: {p_val:.4f}\")\n"
      ],
      "metadata": {
        "id": "8A7SvNB8wKNF"
      },
      "execution_count": null,
      "outputs": []
    },
    {
      "cell_type": "markdown",
      "source": [
        "Q3. Implement a one-sample Z-test using Python to compare the sample mean with the population mean?\n",
        "\n",
        "A3."
      ],
      "metadata": {
        "id": "DS9LEqWHwNZr"
      }
    },
    {
      "cell_type": "code",
      "source": [
        "import numpy as np\n",
        "from scipy.stats import norm\n",
        "\n",
        "def one_sample_ztest(data, population_mean, population_std):\n",
        "    sample_mean = np.mean(data)\n",
        "    n = len(data)\n",
        "    z = (sample_mean - population_mean) / (population_std / np.sqrt(n))\n",
        "    p = 2 * (1 - norm.cdf(abs(z)))\n",
        "    return z, p\n",
        "\n",
        "sample = [51, 52, 49, 50, 53]\n",
        "z, p = one_sample_ztest(sample, population_mean=50, population_std=2)\n",
        "print(f\"Z-score: {z:.2f}, P-value: {p:.4f}\")\n"
      ],
      "metadata": {
        "id": "E0aduzCcwO85"
      },
      "execution_count": null,
      "outputs": []
    },
    {
      "cell_type": "markdown",
      "source": [],
      "metadata": {
        "id": "Dj5JULIYwRO3"
      }
    },
    {
      "cell_type": "markdown",
      "source": [
        "Q4. Perform a two-tailed Z-test using Python and visualize the decision region on a plot?\n",
        "\n",
        "A4."
      ],
      "metadata": {
        "id": "PWDVDfN9wTm6"
      }
    },
    {
      "cell_type": "code",
      "source": [
        "import matplotlib.pyplot as plt\n",
        "import numpy as np\n",
        "from scipy.stats import norm\n",
        "\n",
        "z_critical = norm.ppf(1 - 0.05/2)\n",
        "x = np.linspace(-4, 4, 1000)\n",
        "y = norm.pdf(x)\n",
        "\n",
        "plt.plot(x, y, label='Z-distribution')\n",
        "plt.fill_between(x, y, where=(x <= -z_critical) | (x >= z_critical), color='red', alpha=0.3, label='Rejection region')\n",
        "plt.axvline(z_critical, color='red', linestyle='--')\n",
        "plt.axvline(-z_critical, color='red', linestyle='--')\n",
        "plt.title('Two-tailed Z-Test Rejection Regions')\n",
        "plt.legend()\n",
        "plt.grid()\n",
        "plt.show()\n"
      ],
      "metadata": {
        "id": "UlpqrSxCwWi4"
      },
      "execution_count": null,
      "outputs": []
    },
    {
      "cell_type": "markdown",
      "source": [
        "Q5. Create a Python function that calculates and visualizes Type 1 and Type 2 errors during hypothesis testing?\n",
        "\n",
        "A5."
      ],
      "metadata": {
        "id": "TNAA6uaTwZgD"
      }
    },
    {
      "cell_type": "code",
      "source": [
        "def plot_type1_type2(mu0=50, mu1=52, sigma=2, n=30, alpha=0.05):\n",
        "    import matplotlib.pyplot as plt\n",
        "    import numpy as np\n",
        "    from scipy.stats import norm\n",
        "\n",
        "    se = sigma / np.sqrt(n)\n",
        "    x = np.linspace(44, 56, 1000)\n",
        "\n",
        "    dist_null = norm(mu0, se)\n",
        "    dist_alt = norm(mu1, se)\n",
        "    z_critical = norm.ppf(1 - alpha)\n",
        "    critical_value = mu0 + z_critical * se\n",
        "\n",
        "    plt.plot(x, dist_null.pdf(x), label=\"H₀\", color='blue')\n",
        "    plt.plot(x, dist_alt.pdf(x), label=\"H₁\", color='green')\n",
        "    plt.axvline(critical_value, color='red', linestyle='--', label='Critical Value')\n",
        "    plt.fill_between(x, dist_null.pdf(x), where=x > critical_value, color='red', alpha=0.3, label='Type I Error')\n",
        "    plt.fill_between(x, dist_alt.pdf(x), where=x < critical_value, color='yellow', alpha=0.3, label='Type II Error')\n",
        "\n",
        "    plt.legend()\n",
        "    plt.title(\"Type I and Type II Errors\")\n",
        "    plt.grid()\n",
        "    plt.show()\n",
        "\n",
        "plot_type1_type2()\n"
      ],
      "metadata": {
        "id": "YqV6jToWwb7v"
      },
      "execution_count": null,
      "outputs": []
    },
    {
      "cell_type": "markdown",
      "source": [
        "Q6. Write a Python program to perform an independent T-test and interpret the results?\n",
        "\n",
        "A6."
      ],
      "metadata": {
        "id": "8MUqW_Mpwfuk"
      }
    },
    {
      "cell_type": "code",
      "source": [
        "from scipy.stats import ttest_ind\n",
        "\n",
        "group1 = [23, 25, 27, 30, 28]\n",
        "group2 = [22, 24, 26, 23, 25]\n",
        "\n",
        "t_stat, p_val = ttest_ind(group1, group2)\n",
        "\n",
        "print(f\"T-statistic: {t_stat:.2f}\")\n",
        "print(f\"P-value: {p_val:.4f}\")\n",
        "\n",
        "if p_val < 0.05:\n",
        "    print(\"Reject the null hypothesis: groups are significantly different.\")\n",
        "else:\n",
        "    print(\"Fail to reject the null hypothesis.\")\n"
      ],
      "metadata": {
        "id": "dyf9nkUVwiGv"
      },
      "execution_count": null,
      "outputs": []
    },
    {
      "cell_type": "markdown",
      "source": [
        "Q7. Perform a paired sample T-test using Python and visualize the comparison results?\n",
        "\n",
        "A7."
      ],
      "metadata": {
        "id": "iK2oXJkWwmUS"
      }
    },
    {
      "cell_type": "code",
      "source": [
        "import numpy as np\n",
        "from scipy.stats import ttest_rel\n",
        "import matplotlib.pyplot as plt\n",
        "\n",
        "before = [88, 92, 85, 91, 87]\n",
        "after = [90, 93, 86, 92, 88]\n",
        "\n",
        "t_stat, p_val = ttest_rel(before, after)\n",
        "print(f\"Paired T-test T-stat: {t_stat:.2f}, P-value: {p_val:.4f}\")\n",
        "\n",
        "plt.plot(before, label=\"Before\")\n",
        "plt.plot(after, label=\"After\")\n",
        "plt.title(\"Before vs After Comparison\")\n",
        "plt.legend()\n",
        "plt.grid()\n",
        "plt.show()\n"
      ],
      "metadata": {
        "id": "8uFVjDOJwnhn"
      },
      "execution_count": null,
      "outputs": []
    },
    {
      "cell_type": "markdown",
      "source": [
        "Q8. Simulate data and perform both Z-test and T-test, then compare the results using Python?\n",
        "\n",
        "A8."
      ],
      "metadata": {
        "id": "cf9I88jNwsPr"
      }
    },
    {
      "cell_type": "code",
      "source": [
        "import numpy as np\n",
        "from scipy.stats import ttest_1samp, norm\n",
        "\n",
        "np.random.seed(0)\n",
        "data = np.random.normal(50, 10, 20)\n",
        "pop_mean = 52\n",
        "pop_std = 10\n",
        "\n",
        "# Z-test\n",
        "z_score = (np.mean(data) - pop_mean) / (pop_std / np.sqrt(len(data)))\n",
        "z_pval = 2 * (1 - norm.cdf(abs(z_score)))\n",
        "\n",
        "# T-test\n",
        "t_stat, t_pval = ttest_1samp(data, pop_mean)\n",
        "\n",
        "print(f\"Z-test: Z = {z_score:.2f}, P = {z_pval:.4f}\")\n",
        "print(f\"T-test: T = {t_stat:.2f}, P = {t_pval:.4f}\")\n"
      ],
      "metadata": {
        "id": "IfqybxDkwuW2"
      },
      "execution_count": null,
      "outputs": []
    },
    {
      "cell_type": "markdown",
      "source": [
        "Q9. Write a Python function to calculate the confidence interval for a sample mean and explain its significance?\n",
        "\n",
        "A9."
      ],
      "metadata": {
        "id": "F835nOPgwxmM"
      }
    },
    {
      "cell_type": "code",
      "source": [
        "import numpy as np\n",
        "from scipy.stats import norm\n",
        "\n",
        "def confidence_interval(data, confidence=0.95):\n",
        "    n = len(data)\n",
        "    mean = np.mean(data)\n",
        "    std_err = np.std(data, ddof=1) / np.sqrt(n)\n",
        "    z = norm.ppf(1 - (1 - confidence) / 2)\n",
        "    margin = z * std_err\n",
        "    return (mean - margin, mean + margin)\n",
        "\n",
        "sample = [52, 50, 49, 51, 53]\n",
        "ci = confidence_interval(sample)\n",
        "print(f\"95% Confidence Interval: {ci}\")\n"
      ],
      "metadata": {
        "id": "9gL5ZTiZw1Su"
      },
      "execution_count": null,
      "outputs": []
    },
    {
      "cell_type": "markdown",
      "source": [
        "Q10. Write a Python program to calculate the margin of error for a given confidence level using sample data?\n",
        "\n",
        "A10."
      ],
      "metadata": {
        "id": "OAuvnaywxG4y"
      }
    },
    {
      "cell_type": "code",
      "source": [
        "import numpy as np\n",
        "from scipy.stats import norm\n",
        "\n",
        "data = [52, 55, 50, 54, 53, 51]\n",
        "confidence = 0.95\n",
        "mean = np.mean(data)\n",
        "std_err = np.std(data, ddof=1) / np.sqrt(len(data))\n",
        "z_score = norm.ppf(1 - (1 - confidence) / 2)\n",
        "\n",
        "margin_error = z_score * std_err\n",
        "print(f\"Margin of Error: {margin_error:.2f}\")\n"
      ],
      "metadata": {
        "id": "z2a6EhJFxI4n"
      },
      "execution_count": null,
      "outputs": []
    },
    {
      "cell_type": "markdown",
      "source": [
        "Q11. Implement a Bayesian inference method using Bayes' Theorem in Python and explain the process?\n",
        "\n",
        "A11."
      ],
      "metadata": {
        "id": "sg5YXsA-xNBs"
      }
    },
    {
      "cell_type": "code",
      "source": [
        "def bayes_theorem(prior_A, prob_B_given_A, prob_B):\n",
        "    return (prob_B_given_A * prior_A) / prob_B\n",
        "\n",
        "# Example values\n",
        "prior_A = 0.01       # Disease probability\n",
        "prob_B_given_A = 0.95  # Test detects disease\n",
        "prob_B = 0.05        # Overall positive test rate\n",
        "\n",
        "posterior = bayes_theorem(prior_A, prob_B_given_A, prob_B)\n",
        "print(f\"Posterior Probability: {posterior:.4f}\")\n"
      ],
      "metadata": {
        "id": "LuPWfbbqxPEB"
      },
      "execution_count": null,
      "outputs": []
    },
    {
      "cell_type": "markdown",
      "source": [
        "Q12. Perform a Chi-square test for independence between two categorical variables in Python?\n",
        "\n",
        "A12."
      ],
      "metadata": {
        "id": "P3DkWPBSxTh9"
      }
    },
    {
      "cell_type": "code",
      "source": [
        "import pandas as pd\n",
        "from scipy.stats import chi2_contingency\n",
        "\n",
        "data = [[30, 10], [20, 40]]\n",
        "chi2, p, dof, expected = chi2_contingency(data)\n",
        "\n",
        "print(f\"Chi-square statistic: {chi2:.2f}\")\n",
        "print(f\"P-value: {p:.4f}\")\n"
      ],
      "metadata": {
        "id": "nY0yttZDxYLQ"
      },
      "execution_count": null,
      "outputs": []
    },
    {
      "cell_type": "markdown",
      "source": [
        "Q13. Write a Python program to calculate the expected frequencies for a Chi-square test based on observed data?\n",
        "\n",
        "A13."
      ],
      "metadata": {
        "id": "GdhKZQY5xa91"
      }
    },
    {
      "cell_type": "code",
      "source": [
        "from scipy.stats import chi2_contingency\n",
        "\n",
        "observed = [[50, 30], [20, 60]]\n",
        "_, _, _, expected = chi2_contingency(observed)\n",
        "print(\"Expected Frequencies:\")\n",
        "print(expected)\n"
      ],
      "metadata": {
        "id": "9zJimJMQxc5a"
      },
      "execution_count": null,
      "outputs": []
    },
    {
      "cell_type": "markdown",
      "source": [
        "Q14. Perform a goodness-of-fit test using Python to compare the observed data to an expected distribution?\n",
        "\n",
        "A14."
      ],
      "metadata": {
        "id": "0P863L7Wxfsc"
      }
    },
    {
      "cell_type": "code",
      "source": [
        "from scipy.stats import chisquare\n",
        "\n",
        "observed = [18, 22, 20, 25, 15]\n",
        "expected = [20, 20, 20, 20, 20]\n",
        "\n",
        "chi2, p = chisquare(observed, f_exp=expected)\n",
        "print(f\"Chi-square Statistic: {chi2:.2f}, P-value: {p:.4f}\")\n"
      ],
      "metadata": {
        "id": "J51eRCJyxh7h"
      },
      "execution_count": null,
      "outputs": []
    },
    {
      "cell_type": "markdown",
      "source": [
        "Q15. Create a Python script to simulate and visualize the Chi-square distribution and discuss its characteristics?\n",
        "\n",
        "A15."
      ],
      "metadata": {
        "id": "NMJZpQdMxnbk"
      }
    },
    {
      "cell_type": "code",
      "source": [
        "import numpy as np\n",
        "import matplotlib.pyplot as plt\n",
        "from scipy.stats import chi2\n",
        "\n",
        "x = np.linspace(0, 30, 1000)\n",
        "df = 4\n",
        "plt.plot(x, chi2.pdf(x, df), label=f'df={df}')\n",
        "plt.title('Chi-square Distribution')\n",
        "plt.xlabel('x')\n",
        "plt.ylabel('PDF')\n",
        "plt.grid()\n",
        "plt.legend()\n",
        "plt.show()\n"
      ],
      "metadata": {
        "id": "bi1b57MSxpli"
      },
      "execution_count": null,
      "outputs": []
    },
    {
      "cell_type": "markdown",
      "source": [
        "Q16. Implement an F-test using Python to compare the variances of two random samples?\n",
        "\n",
        "A16."
      ],
      "metadata": {
        "id": "r2fF5HSPxs-O"
      }
    },
    {
      "cell_type": "code",
      "source": [
        "import numpy as np\n",
        "from scipy.stats import f\n",
        "\n",
        "sample1 = [12, 14, 15, 13, 16]\n",
        "sample2 = [10, 12, 11, 14, 13]\n",
        "\n",
        "var1 = np.var(sample1, ddof=1)\n",
        "var2 = np.var(sample2, ddof=1)\n",
        "\n",
        "f_stat = var1 / var2\n",
        "print(f\"F-statistic: {f_stat:.2f}\")\n"
      ],
      "metadata": {
        "id": "qRuZdRHRxvZ5"
      },
      "execution_count": null,
      "outputs": []
    },
    {
      "cell_type": "markdown",
      "source": [
        "Q17. Write a Python program to perform an ANOVA test to compare means between multiple groups and interpret the results?\n",
        "\n",
        "A17."
      ],
      "metadata": {
        "id": "_B-G-shjxy_n"
      }
    },
    {
      "cell_type": "code",
      "source": [
        "from scipy.stats import f_oneway\n",
        "\n",
        "group1 = [25, 27, 29]\n",
        "group2 = [20, 22, 21]\n",
        "group3 = [30, 31, 29]\n",
        "\n",
        "f_stat, p_val = f_oneway(group1, group2, group3)\n",
        "print(f\"F-statistic: {f_stat:.2f}, P-value: {p_val:.4f}\")\n"
      ],
      "metadata": {
        "id": "qJqO0v-Jx1PV"
      },
      "execution_count": null,
      "outputs": []
    },
    {
      "cell_type": "markdown",
      "source": [
        "Q18. Perform a one-way ANOVA test using Python to compare the means of different groups and plot the results?\n",
        "\n",
        "A18."
      ],
      "metadata": {
        "id": "ddLvOG9rx4TV"
      }
    },
    {
      "cell_type": "code",
      "source": [
        "import matplotlib.pyplot as plt\n",
        "\n",
        "data = [group1, group2, group3]\n",
        "plt.boxplot(data)\n",
        "plt.title(\"Group Means Comparison - One-way ANOVA\")\n",
        "plt.xlabel(\"Groups\")\n",
        "plt.ylabel(\"Values\")\n",
        "plt.grid()\n",
        "plt.show()\n"
      ],
      "metadata": {
        "id": "pDqDCHd7x6vK"
      },
      "execution_count": null,
      "outputs": []
    },
    {
      "cell_type": "markdown",
      "source": [
        "Q19. Write a Python function to check the assumptions (normality, independence, and equal variance) for ANOVA?\n",
        "\n",
        "A19."
      ],
      "metadata": {
        "id": "4-BqGVszx-ys"
      }
    },
    {
      "cell_type": "code",
      "source": [
        "from scipy.stats import shapiro, levene\n",
        "\n",
        "def check_anova_assumptions(*groups):\n",
        "    # Normality\n",
        "    for i, g in enumerate(groups):\n",
        "        stat, p = shapiro(g)\n",
        "        print(f\"Group {i+1} Normality P-value: {p:.4f}\")\n",
        "\n",
        "    # Equal variances\n",
        "    stat, p = levene(*groups)\n",
        "    print(f\"Levene’s Test for Equal Variances P-value: {p:.4f}\")\n",
        "\n",
        "check_anova_assumptions(group1, group2, group3)\n"
      ],
      "metadata": {
        "id": "ZEdsSvSNyBT9"
      },
      "execution_count": null,
      "outputs": []
    },
    {
      "cell_type": "markdown",
      "source": [
        "Q20. Perform a two-way ANOVA test using Python to study the interaction between two factors and visualize the results?\n",
        "\n",
        "A20."
      ],
      "metadata": {
        "id": "qbVTD1l7yFA4"
      }
    },
    {
      "cell_type": "code",
      "source": [
        "import statsmodels.api as sm\n",
        "from statsmodels.formula.api import ols\n",
        "import pandas as pd\n",
        "\n",
        "df = pd.DataFrame({\n",
        "    'score': [80, 85, 88, 90, 95, 70, 75, 78, 82, 85],\n",
        "    'method': ['A']*5 + ['B']*5,\n",
        "    'gender': ['M', 'F', 'M', 'F', 'M', 'F', 'M', 'F', 'M', 'F']\n",
        "})\n",
        "\n",
        "model = ols('score ~ C(method) + C(gender) + C(method):C(gender)', data=df).fit()\n",
        "anova_table = sm.stats.anova_lm(model, typ=2)\n",
        "print(anova_table)\n"
      ],
      "metadata": {
        "id": "MOWyhDtOyHL4"
      },
      "execution_count": null,
      "outputs": []
    },
    {
      "cell_type": "markdown",
      "source": [
        "Q21. Write a Python program to visualize the F-distribution and discuss its use in hypothesis testing?\n",
        "\n",
        "A21.\n"
      ],
      "metadata": {
        "id": "PiTXpY9_yKk7"
      }
    },
    {
      "cell_type": "code",
      "source": [
        "x = np.linspace(0, 5, 1000)\n",
        "df1, df2 = 5, 10\n",
        "plt.plot(x, f.pdf(x, df1, df2), label=f\"df1={df1}, df2={df2}\")\n",
        "plt.title(\"F-distribution\")\n",
        "plt.xlabel(\"x\")\n",
        "plt.ylabel(\"Density\")\n",
        "plt.grid()\n",
        "plt.legend()\n",
        "plt.show()\n"
      ],
      "metadata": {
        "id": "-fwqcVPqyMz6"
      },
      "execution_count": null,
      "outputs": []
    },
    {
      "cell_type": "markdown",
      "source": [
        "Q22. Perform a one-way ANOVA test in Python and visualize the results with boxplots to compare group means?\n",
        "\n",
        "A22."
      ],
      "metadata": {
        "id": "u1zfuSteyjzb"
      }
    },
    {
      "cell_type": "code",
      "source": [
        "from scipy.stats import f_oneway\n",
        "import matplotlib.pyplot as plt\n",
        "\n",
        "# Sample groups\n",
        "group1 = [25, 27, 29]\n",
        "group2 = [20, 22, 21]\n",
        "group3 = [30, 31, 29]\n",
        "\n",
        "# One-way ANOVA\n",
        "f_stat, p_val = f_oneway(group1, group2, group3)\n",
        "print(f\"F-statistic: {f_stat:.2f}, P-value: {p_val:.4f}\")\n"
      ],
      "metadata": {
        "id": "TnnxfZWIymOQ"
      },
      "execution_count": null,
      "outputs": []
    },
    {
      "cell_type": "code",
      "source": [
        "# Visualize the group means using boxplots\n",
        "data = [group1, group2, group3]\n",
        "plt.boxplot(data, labels=[\"Group 1\", \"Group 2\", \"Group 3\"])\n",
        "plt.title(\"Group Means Comparison - One-way ANOVA\")\n",
        "plt.xlabel(\"Groups\")\n",
        "plt.ylabel(\"Values\")\n",
        "plt.grid()\n",
        "plt.show()\n"
      ],
      "metadata": {
        "id": "PeqQOqs-ypQa"
      },
      "execution_count": null,
      "outputs": []
    },
    {
      "cell_type": "markdown",
      "source": [
        "Q23. Simulate random data from a normal distribution, then perform hypothesis testing to evaluate the means?\n",
        "\n",
        "A23."
      ],
      "metadata": {
        "id": "6KPfIBTNyuFt"
      }
    },
    {
      "cell_type": "code",
      "source": [
        "data = np.random.normal(loc=50, scale=5, size=100)\n",
        "t_stat, p_val = ttest_1samp(data, 52)\n",
        "\n",
        "print(f\"T-statistic: {t_stat:.2f}, P-value: {p_val:.4f}\")\n"
      ],
      "metadata": {
        "id": "oiznXsGJywS4"
      },
      "execution_count": null,
      "outputs": []
    },
    {
      "cell_type": "markdown",
      "source": [
        "Q24. Perform a hypothesis test for population variance using a Chi-square distribution and interpret the results?\n",
        "\n",
        "A24."
      ],
      "metadata": {
        "id": "H6gpQOt3y00O"
      }
    },
    {
      "cell_type": "code",
      "source": [
        "sample = [10, 12, 13, 11, 14]\n",
        "n = len(sample)\n",
        "sample_var = np.var(sample, ddof=1)\n",
        "pop_var = 4\n",
        "\n",
        "chi2_stat = (n - 1) * sample_var / pop_var\n",
        "p_val = 1 - chi2.cdf(chi2_stat, df=n - 1)\n",
        "\n",
        "print(f\"Chi-square statistic: {chi2_stat:.2f}, P-value: {p_val:.4f}\")\n"
      ],
      "metadata": {
        "id": "ZrL9V7Qqy2-f"
      },
      "execution_count": null,
      "outputs": []
    },
    {
      "cell_type": "markdown",
      "source": [
        "Q25. Write a Python script to perform a Z-test for comparing proportions between two datasets or groups?\n",
        "\n",
        "A25."
      ],
      "metadata": {
        "id": "oJi-xA-5y6_t"
      }
    },
    {
      "cell_type": "code",
      "source": [
        "from statsmodels.stats.proportion import proportions_ztest\n",
        "\n",
        "success = [40, 30]\n",
        "nobs = [100, 90]\n",
        "\n",
        "z_stat, p_val = proportions_ztest(success, nobs)\n",
        "print(f\"Z-statistic: {z_stat:.2f}, P-value: {p_val:.4f}\")\n"
      ],
      "metadata": {
        "id": "F0LZhKMqy9N9"
      },
      "execution_count": null,
      "outputs": []
    },
    {
      "cell_type": "markdown",
      "source": [
        "Q26. Implement an F-test for comparing the variances of two datasets, then interpret and visualize the results?\n",
        "\n",
        "A26."
      ],
      "metadata": {
        "id": "n1gTIzX6zAac"
      }
    },
    {
      "cell_type": "code",
      "source": [
        "data1 = [20, 21, 19, 22, 20]\n",
        "data2 = [25, 28, 24, 27, 26]\n",
        "\n",
        "f_stat = np.var(data1, ddof=1) / np.var(data2, ddof=1)\n",
        "print(f\"F-statistic: {f_stat:.2f}\")\n"
      ],
      "metadata": {
        "id": "GumNPjiSzCnd"
      },
      "execution_count": null,
      "outputs": []
    },
    {
      "cell_type": "markdown",
      "source": [
        "Q27. Perform a Chi-square test for goodness of fit with simulated data and analyze the results?\n",
        "\n",
        "A27."
      ],
      "metadata": {
        "id": "gXmWCO6izFnn"
      }
    },
    {
      "cell_type": "code",
      "source": [
        "observed = [18, 22, 20, 25, 15]\n",
        "expected = [20, 20, 20, 20, 20]\n",
        "\n",
        "chi2_stat, p_val = chisquare(observed, f_exp=expected)\n",
        "print(f\"Chi-square Stat: {chi2_stat:.2f}, P-value: {p_val:.4f}\")\n"
      ],
      "metadata": {
        "id": "IOoCPnbYzIDa"
      },
      "execution_count": null,
      "outputs": []
    }
  ]
}